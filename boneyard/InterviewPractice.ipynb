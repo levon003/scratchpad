{
 "cells": [
  {
   "cell_type": "markdown",
   "id": "148a0740-0e4a-4489-8d90-353b796f2dbb",
   "metadata": {
    "tags": []
   },
   "source": [
    "Interview Practice\n",
    "===\n",
    "\n",
    "Doing some Python interview practice.\n",
    "\n",
    "Mostly problems from: https://book.thedatascienceinterviewproject.com/python/basics"
   ]
  },
  {
   "cell_type": "code",
   "execution_count": null,
   "id": "2e39fb73-183a-411d-b1df-21426f57a29f",
   "metadata": {},
   "outputs": [],
   "source": []
  },
  {
   "cell_type": "markdown",
   "id": "c1bd9de6-a334-4ffe-b2d1-fcdac399b404",
   "metadata": {},
   "source": [
    "## Problem 1\n",
    "\n",
    "Feedback for Anne\n",
    "\n",
    " - How range() objects work in Python\n",
    " - Be talking much more about what you're trying to do.\n",
    " - A lot of time not thinking and also not talking.\n",
    " - Get to a runnable state as fast as possible.\n",
    " - Write a test or tests, if possible."
   ]
  },
  {
   "cell_type": "code",
   "execution_count": 11,
   "id": "165305f2-735b-4244-ab58-81cad6194e18",
   "metadata": {},
   "outputs": [
    {
     "name": "stdout",
     "output_type": "stream",
     "text": [
      "1\n",
      "2 3\n",
      "4 5 6\n",
      "\n",
      "1\n",
      "2 3\n",
      "4 5 6\n",
      "7 8 9 10\n",
      "11 12 13 14 15\n",
      "16 17 18 19 20 21\n",
      "\n",
      "1\n"
     ]
    }
   ],
   "source": [
    "import matplotlib.pyplot as plt\n",
    "\n",
    "\n",
    "def pyramid(n_rows):\n",
    "    curr_value = 1\n",
    "    for row_num in range(n_rows):\n",
    "        values_to_print = []\n",
    "        for i in range(row_num + 1):\n",
    "            values_to_print.append(curr_value)\n",
    "            curr_value += 1\n",
    "        print(\" \".join([str(value) for value in values_to_print]))\n",
    "\n",
    "\n",
    "pyramid(3)\n",
    "print()\n",
    "pyramid(6)\n",
    "print()\n",
    "pyramid(0)\n",
    "pyramid(1)"
   ]
  },
  {
   "cell_type": "code",
   "execution_count": 13,
   "id": "4f67d9a7-7c38-4676-a726-c528c76bfafa",
   "metadata": {},
   "outputs": [
    {
     "name": "stdout",
     "output_type": "stream",
     "text": [
      "1\n",
      "1 2\n",
      "1 2 3\n",
      "\n",
      "1\n",
      "1 2\n",
      "1 2 3\n",
      "1 2 3 4\n",
      "1 2 3 4 5\n",
      "1 2 3 4 5 6\n",
      "\n",
      "1\n"
     ]
    }
   ],
   "source": [
    "def pyramid(n_rows):\n",
    "    for row_num in range(n_rows):\n",
    "        curr_value = 1\n",
    "        values_to_print = []\n",
    "        for i in range(row_num + 1):\n",
    "            values_to_print.append(curr_value)\n",
    "            curr_value += 1\n",
    "        print(\" \".join([str(value) for value in values_to_print]))\n",
    "\n",
    "\n",
    "pyramid(3)\n",
    "print()\n",
    "pyramid(6)\n",
    "print()\n",
    "pyramid(0)\n",
    "pyramid(1)"
   ]
  },
  {
   "cell_type": "code",
   "execution_count": 17,
   "id": "3955a880-b5d5-41fe-8637-f6a59cca4595",
   "metadata": {},
   "outputs": [
    {
     "data": {
      "text/plain": [
       "'1 2 3'"
      ]
     },
     "execution_count": 17,
     "metadata": {},
     "output_type": "execute_result"
    }
   ],
   "source": [
    "\" \".join(map(str, [1, 2, 3]))"
   ]
  },
  {
   "cell_type": "code",
   "execution_count": null,
   "id": "686780bd-b1f8-41f6-8c15-f4dc66de184b",
   "metadata": {},
   "outputs": [],
   "source": []
  },
  {
   "cell_type": "markdown",
   "id": "61271e6a-dfac-4eab-b65f-e6509111bc8c",
   "metadata": {},
   "source": [
    "## Problem 2\n",
    "\n",
    "Given a string, determine whether any permutation of it is a palindrome.\n",
    "\n",
    "For example, carerac should return true, since it can be rearranged to form racecar, which is a palindrome. sunset should return false, since there’s no rearrangement that can form a palindrome."
   ]
  },
  {
   "cell_type": "code",
   "execution_count": 19,
   "id": "6e6bf7e6-e594-4be9-af48-31cc77cb39ee",
   "metadata": {},
   "outputs": [],
   "source": [
    "\"\"\"\n",
    "Thoughts:\n",
    "Many words cannot be palindromes. Need any even number of each letter, with one extra optional for odd-length words.\n",
    "If a word meets the condition above, it MUST be possible to arrange it into a palindrome.\n",
    "\"\"\"\n",
    "\n",
    "\n",
    "def is_palindromic_permutation(word):\n",
    "    counter = {}\n",
    "    word_length = len(word)\n",
    "    for char in word:\n",
    "        if char not in counter:\n",
    "            counter[char] = 0\n",
    "        counter[char] += 1\n",
    "    n_odd_letters = 0\n",
    "    for char, count in counter.items():\n",
    "        if count % 2 != 0:\n",
    "            n_odd_letters += 1\n",
    "    if word_length % 2 == 0:\n",
    "        return n_odd_letters == 0\n",
    "    else:\n",
    "        return n_odd_letters <= 1\n",
    "\n",
    "\n",
    "assert is_palindromic_permutation(\"a\")\n",
    "assert is_palindromic_permutation(\"aa\")\n",
    "assert not is_palindromic_permutation(\"ab\")\n",
    "assert not is_palindromic_permutation(\"abc\")\n",
    "assert is_palindromic_permutation(\"aba\")\n",
    "assert is_palindromic_permutation(\"abb\")\n",
    "assert is_palindromic_permutation(\"abab\")\n",
    "assert is_palindromic_permutation(\"carerac\")"
   ]
  },
  {
   "cell_type": "code",
   "execution_count": null,
   "id": "91a008f1-ac2e-4fef-8d2f-c64f5c9ebf23",
   "metadata": {},
   "outputs": [],
   "source": []
  },
  {
   "cell_type": "markdown",
   "id": "a0808f8d-4a2e-405d-8d60-78ba6a5f094e",
   "metadata": {},
   "source": [
    "## Problem 3\n",
    "\n",
    "Given a list of integers, find all combinations that equal the value N.\n",
    "\n",
    "I opened a PR about this problem: https://github.com/dipranjan/dsinterviewqns/pull/6"
   ]
  },
  {
   "cell_type": "code",
   "execution_count": 29,
   "id": "3924501c-91f3-4e0b-9a8d-f5746ed48df4",
   "metadata": {},
   "outputs": [],
   "source": [
    "\"\"\"\n",
    "Thoughts:\n",
    "Duplicate integers mean nothing, we get to reuse integers as much as we want.\n",
    "\n",
    "Basic idea:\n",
    "try all combinations. we might be able to do better, but lets start with that.\n",
    "\n",
    "negative numbers present a very big problem, make the problem a lot harder. (we could get trapped in a loop, for example)\n",
    "\n",
    "\"all combinations\" means:\n",
    "a tree! branching factor equal to the number of integers\n",
    "result is a list of all the nodes leading to each leaf that equals\n",
    "\n",
    "okay, we have a working implementation.\n",
    "\n",
    "thoughts on improvement:\n",
    "we do a lot of duplicate work with this approach; we will be forced to compute every combination as many times as its length.\n",
    "how to address this? well, order doesn't matter, so we should probably just bite the bullet and just track all the sets we're considering rather than the tree\n",
    "the tree saves on memory, but costs us compute. actually, does it even save us memory? maybe not...\n",
    "\"\"\"\n",
    "\n",
    "\n",
    "def sum_combinations(integer_list, target_value):\n",
    "    valid_combinations = set()\n",
    "    integer_set = set(integer_list)\n",
    "\n",
    "    class Node:\n",
    "        def __init__(self, parent, value, parent_sum):\n",
    "            self.parent = parent\n",
    "            self.value = value\n",
    "            self.sum = parent_sum + value\n",
    "\n",
    "    leaves = [Node(None, integer, 0) for integer in integer_set]\n",
    "    while len(leaves) > 0:\n",
    "        new_leaves = []\n",
    "        for leaf in leaves:\n",
    "            if leaf.sum > target_value:\n",
    "                # delete from leaves\n",
    "                continue\n",
    "            elif leaf.sum == target_value:\n",
    "                # delete from leaves and add to valid combinations\n",
    "                valid_combination = []\n",
    "                curr_node = leaf\n",
    "                while curr_node is not None:\n",
    "                    valid_combination.append(curr_node.value)\n",
    "                    curr_node = curr_node.parent\n",
    "                assert sum(valid_combination) == target_value\n",
    "                valid_combinations.add(tuple(sorted(valid_combination)))\n",
    "                continue\n",
    "            else:  # haven't yet reached the target value\n",
    "                # create a new leaf for each integer\n",
    "                for integer in integer_set:\n",
    "                    new_leaves.append(Node(leaf, integer, leaf.sum))\n",
    "        leaves = new_leaves\n",
    "    return valid_combinations\n",
    "\n",
    "\n",
    "integers = [2, 3, 5]\n",
    "target = 8\n",
    "expected_output = {(2, 2, 2, 2), (2, 3, 3), (3, 5)}\n",
    "output = sum_combinations(integers, target)\n",
    "assert expected_output == output"
   ]
  },
  {
   "cell_type": "code",
   "execution_count": 33,
   "id": "5ff32ef8-2c5e-467b-bc3a-ae73c05d627a",
   "metadata": {},
   "outputs": [
    {
     "name": "stdout",
     "output_type": "stream",
     "text": [
      "{(5,), (1, 1, 3), (1, 4), (2, 3), (1, 2, 2), (1, 1, 1, 2), (1, 1, 1, 1, 1)}\n",
      "{(5,)}\n",
      "{(1, 2, 2), (1, 1, 1, 1, 1), (1, 1, 1, 2)}\n"
     ]
    }
   ],
   "source": [
    "print(sum_combinations([1, 2, 3, 4, 5], 5))\n",
    "print(\n",
    "    sum_combinations(\n",
    "        [\n",
    "            5,\n",
    "        ],\n",
    "        5,\n",
    "    )\n",
    ")\n",
    "print(sum_combinations([1, 2], 5))"
   ]
  },
  {
   "cell_type": "code",
   "execution_count": 46,
   "id": "d899081b-ba4f-4383-8e6e-ec525d7dcc6c",
   "metadata": {},
   "outputs": [
    {
     "data": {
      "image/png": "[encoded data removed]",
      "text/plain": [
       "<Figure size 600x300 with 1 Axes>"
      ]
     },
     "metadata": {},
     "output_type": "display_data"
    }
   ],
   "source": [
    "fig, ax = plt.subplots(1, 1, figsize=(6, 3))\n",
    "xs = list(range(20))\n",
    "n_combinations = [len(sum_combinations([1, 2], t)) for t in xs]\n",
    "ax.plot(xs, n_combinations)\n",
    "ax.scatter(xs, n_combinations, color=\"black\", marker=\".\", zorder=99)\n",
    "ax.set_ylabel(\"Number of combinations given [1, 2]\")\n",
    "ax.set_xlabel(\"Target value\")\n",
    "fig.tight_layout()\n",
    "plt.show()"
   ]
  },
  {
   "cell_type": "code",
   "execution_count": null,
   "id": "84593d14-b0bb-4e52-8dec-3359d7befb8d",
   "metadata": {},
   "outputs": [],
   "source": [
    "# now, an implementation that supports negative integers\n",
    "\"\"\"\n",
    "not finishing this for now... requires additional specification.\n",
    "\n",
    "probably need to produce a special return value if infinite combinations sum to the target.\n",
    "\"\"\"\n",
    "\n",
    "\n",
    "def sum_combinations(integer_list, target_value):\n",
    "    valid_combinations = set()\n",
    "    integer_set = set(integer_list)\n",
    "\n",
    "    # special case: 0 is always useless\n",
    "    if 0 in integer_set:\n",
    "        integer_set.remove(0)\n",
    "\n",
    "    # ... snip of above ..."
   ]
  },
  {
   "cell_type": "code",
   "execution_count": 2,
   "id": "a7054cc3-a7c4-4dc9-b8c9-5e29a07051ea",
   "metadata": {},
   "outputs": [
    {
     "data": {
      "text/plain": [
       "{frozenset({(1, 5), (2, 0)}): 5, frozenset(): 0}"
      ]
     },
     "execution_count": 2,
     "metadata": {},
     "output_type": "execute_result"
    }
   ],
   "source": [
    "{\n",
    "    frozenset([(1, 5), (2, 0)]): 5,\n",
    "    frozenset(): 0,\n",
    "}"
   ]
  },
  {
   "cell_type": "code",
   "execution_count": 22,
   "id": "1c9a6257-7f05-4128-b670-0232bd731094",
   "metadata": {},
   "outputs": [
    {
     "data": {
      "text/plain": [
       "{(2, 2, 2, 2), (2, 3, 3), (3, 5)}"
      ]
     },
     "execution_count": 22,
     "metadata": {},
     "output_type": "execute_result"
    }
   ],
   "source": [
    "def sum_combinations(integer_list, target_value):\n",
    "    integer_set = frozenset(sorted(integer_list))\n",
    "    assert all([integer > 0 for integer in integer_set])\n",
    "\n",
    "    # we use a sparse sum representation to save memory\n",
    "    # the total value of a combination is sum([integer * count for integer, count in combination.items()])\n",
    "    # to avoid recomputing it, the value of this dict is the total value\n",
    "    possible_combinations = {frozenset([(integer, 0) for integer in integer_set]): 0}\n",
    "    valid_combinations = set()\n",
    "    while len(possible_combinations) > 0:\n",
    "        new_combinations = {}\n",
    "        for candidate, total in possible_combinations.items():\n",
    "            if total == target_value:\n",
    "                valid_combinations.add(candidate)\n",
    "            elif total < target_value:\n",
    "                for integer_to_add in integer_set:\n",
    "                    new_candidate = frozenset(\n",
    "                        [\n",
    "                            (integer, count + 1 if integer == integer_to_add else count)\n",
    "                            for integer, count in candidate\n",
    "                        ]\n",
    "                    )\n",
    "                    new_combinations[new_candidate] = total + integer_to_add\n",
    "            # else: the total exceeds the target value\n",
    "        possible_combinations = new_combinations\n",
    "\n",
    "    # convert to the expected output format\n",
    "    # (this can be accomplished in a one-line double list comprehension; written out for clarity)\n",
    "    results = set()\n",
    "    for combination in valid_combinations:\n",
    "        result = []\n",
    "        for integer, count in combination:\n",
    "            result.extend(\n",
    "                [\n",
    "                    integer,\n",
    "                ]\n",
    "                * count\n",
    "            )\n",
    "        results.add(tuple(sorted(result)))\n",
    "    return results\n",
    "\n",
    "\n",
    "integers = [2, 3, 5]\n",
    "target = 8\n",
    "expected_output = {(2, 2, 2, 2), (2, 3, 3), (3, 5)}\n",
    "output = sum_combinations(integers, target)\n",
    "assert expected_output == output\n",
    "output"
   ]
  },
  {
   "cell_type": "code",
   "execution_count": 17,
   "id": "4cea039c-e219-4a0d-ada6-ab43a9f8c41b",
   "metadata": {},
   "outputs": [
    {
     "name": "stdout",
     "output_type": "stream",
     "text": [
      "3434\n",
      "CPU times: user 993 ms, sys: 42.7 ms, total: 1.04 s\n",
      "Wall time: 1.05 s\n"
     ]
    }
   ],
   "source": [
    "%%time\n",
    "print(len(sum_combinations([1, 2, 3], 200)))"
   ]
  },
  {
   "cell_type": "code",
   "execution_count": 43,
   "id": "b0ad0f7c-9edb-429b-b53d-eb1ba5845009",
   "metadata": {},
   "outputs": [
    {
     "data": {
      "text/plain": [
       "{(2, 2, 2, 2), (2, 3, 3), (3, 5)}"
      ]
     },
     "execution_count": 43,
     "metadata": {},
     "output_type": "execute_result"
    }
   ],
   "source": [
    "\"\"\"\n",
    "We are doing too much searching; only consider combinations for \"future\" integers.\n",
    "\"\"\"\n",
    "\n",
    "\n",
    "def sum_combinations_with_replacement(integer_list, target_value):\n",
    "    assert all([integer > 0 for integer in integer_list]), \"Positive integers required.\"\n",
    "\n",
    "    # for each combination, we need to store:\n",
    "    # current index in integer_list, the current total, and the current times each term is included\n",
    "    possible_combinations = [[0, 0, {}]]\n",
    "    valid_combinations = set()\n",
    "    while len(possible_combinations) > 0:\n",
    "        new_combinations = []\n",
    "        for idx, total, count_dict in possible_combinations:\n",
    "            if total == target_value:\n",
    "                # this is a valid combination,\n",
    "                # so convert from the sparse representation of term counts to a full list\n",
    "                result_list = []\n",
    "                for integer, count in count_dict.items():\n",
    "                    result_list.extend(\n",
    "                        [\n",
    "                            integer,\n",
    "                        ]\n",
    "                        * count\n",
    "                    )\n",
    "                valid_combinations.add(tuple(sorted(result_list)))\n",
    "            elif total < target_value:\n",
    "                # not yet at the target, generate new candidate combinations for each integer.\n",
    "                # only need to consider adding integers at our current index in the integer_list and beyond\n",
    "                # (since a different root combination will explore the other indices)\n",
    "                for new_idx in range(idx, len(integer_list)):\n",
    "                    # keep a running total to avoid redundant calls to sum()\n",
    "                    new_total = total + integer_to_add\n",
    "                    # copy the current formula (in a dictionary of integers -> counts)\n",
    "                    # and add 1 to the count of whichever integer we're adding for this candidate\n",
    "                    new_count_dict = count_dict.copy()\n",
    "                    integer_to_add = integer_list[new_idx]\n",
    "                    if integer_to_add not in new_count_dict:\n",
    "                        new_count_dict[integer_to_add] = 0\n",
    "                    new_count_dict[integer_list[new_idx]] += 1\n",
    "                    combination = (new_idx, new_total, new_count_dict)\n",
    "                    new_combinations.append(combination)\n",
    "            # else: the total exceeds the target value\n",
    "        possible_combinations = new_combinations\n",
    "    return valid_combinations\n",
    "\n",
    "\n",
    "integers = [2, 3, 5]\n",
    "target = 8\n",
    "expected_output = {(2, 2, 2, 2), (2, 3, 3), (3, 5)}\n",
    "output = sum_combinations(integers, target)\n",
    "assert expected_output == output\n",
    "output"
   ]
  },
  {
   "cell_type": "code",
   "execution_count": 40,
   "id": "3843fa54-e3dc-4024-98ee-d9932962ded6",
   "metadata": {},
   "outputs": [
    {
     "name": "stdout",
     "output_type": "stream",
     "text": [
      "3434\n",
      "CPU times: user 215 ms, sys: 3.28 ms, total: 218 ms\n",
      "Wall time: 220 ms\n"
     ]
    }
   ],
   "source": [
    "%%time\n",
    "print(len(sum_combinations([1, 2, 3], 200)))"
   ]
  },
  {
   "cell_type": "code",
   "execution_count": 13,
   "id": "d30697f5-0f09-44b1-ae1e-1d02f389854a",
   "metadata": {},
   "outputs": [
    {
     "data": {
      "text/plain": [
       "[[2, 2, 2, 2], [2, 3, 3], [3, 5]]"
      ]
     },
     "execution_count": 13,
     "metadata": {},
     "output_type": "execute_result"
    }
   ],
   "source": [
    "# the book solution:\n",
    "def a(lst, target):\n",
    "    final_list = []  # list to store all the valid results\n",
    "\n",
    "    def _a(idx, li):\n",
    "        if target == sum(li):\n",
    "            final_list.append(li)\n",
    "        elif target < sum(li):\n",
    "            return\n",
    "\n",
    "        for u in range(idx, len(lst)):\n",
    "            _a(u, li + [lst[u]])  # recursive call\n",
    "        return final_list\n",
    "\n",
    "    return _a(0, [])  # initial call\n",
    "\n",
    "\n",
    "a([2, 3, 5], 8)"
   ]
  },
  {
   "cell_type": "code",
   "execution_count": 42,
   "id": "b7c28940-b09d-4155-bcdf-be598ed453d4",
   "metadata": {},
   "outputs": [
    {
     "name": "stdout",
     "output_type": "stream",
     "text": [
      "3434\n",
      "CPU times: user 479 ms, sys: 5.28 ms, total: 484 ms\n",
      "Wall time: 488 ms\n"
     ]
    }
   ],
   "source": [
    "%%time\n",
    "print(len(a([1, 2, 3], 200)))"
   ]
  },
  {
   "cell_type": "code",
   "execution_count": 49,
   "id": "b1660e6d-b5ec-42bc-a782-d459d669daaa",
   "metadata": {},
   "outputs": [],
   "source": [
    "# runs forever (i.e. recursion error):\n",
    "# a([1,-2],5)"
   ]
  },
  {
   "cell_type": "code",
   "execution_count": null,
   "id": "6df474c6-5e67-4b8a-bd30-3ac4ecaa7d78",
   "metadata": {},
   "outputs": [],
   "source": []
  },
  {
   "cell_type": "code",
   "execution_count": null,
   "id": "5acf597c-ad08-41be-8508-3a3ceb2d31a3",
   "metadata": {},
   "outputs": [],
   "source": []
  },
  {
   "cell_type": "markdown",
   "id": "4efe2e73-a673-4081-838d-12972d5405f4",
   "metadata": {},
   "source": [
    "## Problem 4\n",
    "\n",
    "Given a list of stock prices in ascending order by datetime, write a function that outputs the max profit by buying and selling at a specific interval."
   ]
  },
  {
   "cell_type": "code",
   "execution_count": 1,
   "id": "31b76e41-5968-42fa-b189-7026aca72687",
   "metadata": {},
   "outputs": [],
   "source": [
    "def get_max_profits(stock_price_list):\n",
    "    \"\"\"\n",
    "    Notes:\n",
    "    This is a bad implementation that doesn't exploit any structure about the problem.\n",
    "    The book's solution doesn't actually seem any better to me.\n",
    "    \"\"\"\n",
    "    buy_sell_map = {}  # map of time -> (buy_price, sell_price)\n",
    "    for time, price in enumerate(stock_price_list):\n",
    "        for prev_time in buy_sell_map.keys():\n",
    "            buy_price, sell_price = buy_sell_map[prev_time]\n",
    "            if price > sell_price and price > buy_price:\n",
    "                buy_sell_map[prev_time] = (buy_price, price)\n",
    "        buy_sell_map[time] = (price, price)\n",
    "    best_profit = 0\n",
    "    best_buy_price, best_sell_price = 0, 0\n",
    "    for buy_price, sell_price in buy_sell_map.values():\n",
    "        profit = sell_price - buy_price\n",
    "        if profit > best_profit:\n",
    "            best_profit = profit\n",
    "            best_buy_price, best_sell_price = buy_price, sell_price\n",
    "\n",
    "    return best_buy_price, best_sell_price\n",
    "\n",
    "\n",
    "stock_prices = [10, 5, 20, 32, 25, 12]\n",
    "expected_buy_price, expected_sell_price = 5, 32\n",
    "buy_price, sell_price = get_max_profits(stock_prices)\n",
    "assert expected_buy_price == buy_price and expected_sell_price == sell_price"
   ]
  },
  {
   "cell_type": "code",
   "execution_count": 3,
   "id": "7aa56045-ff63-4bc5-8d45-64a1d949ea16",
   "metadata": {},
   "outputs": [
    {
     "data": {
      "text/plain": [
       "(0, 105)"
      ]
     },
     "execution_count": 3,
     "metadata": {},
     "output_type": "execute_result"
    }
   ],
   "source": [
    "get_max_profits([100, 110, 0, 0, 100, 105])"
   ]
  },
  {
   "cell_type": "code",
   "execution_count": null,
   "id": "97947592-083e-4a0e-9724-7589e4065912",
   "metadata": {},
   "outputs": [],
   "source": []
  },
  {
   "cell_type": "code",
   "execution_count": null,
   "id": "6319d928-9fe6-41fd-b0cb-6a7ed1bd4bf0",
   "metadata": {},
   "outputs": [],
   "source": []
  },
  {
   "cell_type": "code",
   "execution_count": null,
   "id": "afc7773d-6cd7-49e1-93d2-e1cd5c043c02",
   "metadata": {},
   "outputs": [],
   "source": []
  },
  {
   "cell_type": "code",
   "execution_count": null,
   "id": "a1be4d4c-1588-4c85-b1ac-dc6c2a0755ea",
   "metadata": {},
   "outputs": [],
   "source": []
  },
  {
   "cell_type": "code",
   "execution_count": null,
   "id": "f86ae70b-aaf2-4af6-97a1-bde46966764c",
   "metadata": {},
   "outputs": [],
   "source": []
  },
  {
   "cell_type": "code",
   "execution_count": null,
   "id": "c5432336-0394-40fb-bb1c-527d9ffbea79",
   "metadata": {},
   "outputs": [],
   "source": []
  }
 ],
 "metadata": {
  "kernelspec": {
   "display_name": "Python 3 (ipykernel)",
   "language": "python",
   "name": "python3"
  },
  "language_info": {
   "codemirror_mode": {
    "name": "ipython",
    "version": 3
   },
   "file_extension": ".py",
   "mimetype": "text/x-python",
   "name": "python",
   "nbconvert_exporter": "python",
   "pygments_lexer": "ipython3",
   "version": "3.11.2"
  }
 },
 "nbformat": 4,
 "nbformat_minor": 5
}
