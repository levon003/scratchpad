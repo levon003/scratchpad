{
 "cells": [
  {
   "cell_type": "markdown",
   "id": "698c262e-0a68-43c9-a1b0-5eb94a6883e5",
   "metadata": {},
   "source": [
    "Probability Review\n",
    "===\n",
    "\n",
    "Scratch notes while reviewing probability.\n",
    "\n",
    "Links:\n",
    " - https://docs.python.org/3/library/math.html\n",
    " - https://www.nicksingh.com/posts/40-probability-statistics-data-science-interview-questions-asked-by-fang-wall-street\n",
    " - https://book.thedatascienceinterviewproject.com/statistics/probability-basics"
   ]
  },
  {
   "cell_type": "code",
   "execution_count": 7,
   "id": "c1d8b695-629f-49ec-9528-b593bed8616a",
   "metadata": {
    "tags": []
   },
   "outputs": [],
   "source": [
    "import math\n",
    "from math import factorial"
   ]
  },
  {
   "cell_type": "code",
   "execution_count": 6,
   "id": "e466efa1-a850-4c79-93a2-baafcba52366",
   "metadata": {
    "tags": []
   },
   "outputs": [
    {
     "data": {
      "text/plain": [
       "(1, 6)"
      ]
     },
     "execution_count": 6,
     "metadata": {},
     "output_type": "execute_result"
    }
   ],
   "source": [
    "n = 3\n",
    "k = 3\n",
    "math.comb(n, k), math.perm(n, k)"
   ]
  },
  {
   "cell_type": "code",
   "execution_count": 11,
   "id": "552da6a2-b7e3-4090-bf10-d2beeef1c216",
   "metadata": {
    "tags": []
   },
   "outputs": [
    {
     "data": {
      "text/plain": [
       "6.0"
      ]
     },
     "execution_count": 11,
     "metadata": {},
     "output_type": "execute_result"
    }
   ],
   "source": [
    "# permutations\n",
    "factorial(n) / factorial(n - k)"
   ]
  },
  {
   "cell_type": "code",
   "execution_count": 12,
   "id": "5c369ea2-d2c7-428c-9c2d-eae822818968",
   "metadata": {
    "tags": []
   },
   "outputs": [
    {
     "data": {
      "text/plain": [
       "1.0"
      ]
     },
     "execution_count": 12,
     "metadata": {},
     "output_type": "execute_result"
    }
   ],
   "source": [
    "# combinations\n",
    "factorial(n) / (factorial(n - k) * factorial(k))"
   ]
  },
  {
   "cell_type": "code",
   "execution_count": 13,
   "id": "fad92cd0-e5ed-4904-a1e8-d3daf5f5e4a9",
   "metadata": {
    "tags": []
   },
   "outputs": [
    {
     "data": {
      "text/plain": [
       "24"
      ]
     },
     "execution_count": 13,
     "metadata": {},
     "output_type": "execute_result"
    }
   ],
   "source": [
    "factorial(4)"
   ]
  },
  {
   "cell_type": "code",
   "execution_count": 15,
   "id": "cd5a4433-3b5b-455f-b4ec-e5b5c4b9475b",
   "metadata": {
    "tags": []
   },
   "outputs": [
    {
     "data": {
      "text/plain": [
       "(24, 1)"
      ]
     },
     "execution_count": 15,
     "metadata": {},
     "output_type": "execute_result"
    }
   ],
   "source": [
    "math.perm(4, 4), math.comb(4, 4)"
   ]
  },
  {
   "cell_type": "markdown",
   "id": "cf7f1add-6647-457a-a8a8-885395ede744",
   "metadata": {
    "tags": []
   },
   "source": [
    "Bloomberg: Say you draw a circle and choose two chords at random. What is the probability that those chords will intersect?\n",
    "\n",
    "Assumes chords are Red -> Red, and Blue -> Blue.\n",
    "Treating Circle as a line segment and endpoints as randomly chosen, we get the following.\n",
    "\n",
    "```\n",
    "RRBB\n",
    "RBRB\n",
    "BBRR\n",
    "BRBR\n",
    "BRRB\n",
    "RBBR\n",
    "```\n",
    "\n",
    "Only the combinations with interleavings intersect. So, we have 2 of 6.\n",
    "\n",
    "So, p = 1/3."
   ]
  },
  {
   "cell_type": "markdown",
   "id": "771bf73a-02f3-41ed-81c1-5d84abfa9b7a",
   "metadata": {},
   "source": [
    "A and B are playing a game where A has n+1 coins, B has n coins, and they each flip all of their coins. What is the probability that A will have more heads than B?\n",
    "\n",
    "n = 1\n",
    "\n",
    "````\n",
    "P(A has 2 heads) = 0.25\n",
    "P(B has 1 heads) = 0.5\n",
    "P(B has 0 heads) = 0.5\n",
    "P(A has 1 head) = 0.5\n",
    "P(A has 0 heads) = 0.25\n",
    "```\n",
    "\n",
    "In this case, 25% they win with 2 heads, 25% they win with 1 head, and 50% they tie or lose. So P = 0.5.\n",
    "\n",
    "Turns out this generalizes."
   ]
  },
  {
   "cell_type": "markdown",
   "id": "8c796319-3d6f-43a2-a383-a4857125b865",
   "metadata": {},
   "source": [
    ">We throw 3 dice one by one. What is the probability that we obtain 3 points in strictly increasing order?\n",
    "\n",
    "```\n",
    "123\n",
    "124\n",
    "125\n",
    "126\n",
    "134\n",
    "135\n",
    "136\n",
    "145\n",
    "146\n",
    "156\n",
    "234\n",
    "235\n",
    "236\n",
    "245\n",
    "246\n",
    "256\n",
    "345\n",
    "346\n",
    "356\n",
    "456\n",
    "```\n"
   ]
  },
  {
   "cell_type": "code",
   "execution_count": 24,
   "id": "59b234c7-9dd8-4170-82ff-f1d71204b4a0",
   "metadata": {
    "tags": []
   },
   "outputs": [
    {
     "data": {
      "text/plain": [
       "(20, 216, '9.26%')"
      ]
     },
     "execution_count": 24,
     "metadata": {},
     "output_type": "execute_result"
    }
   ],
   "source": [
    "20, (6**3), f\"{20 / (6**3):.2%}\""
   ]
  },
  {
   "cell_type": "code",
   "execution_count": 25,
   "id": "f3947fca-e008-4d1e-908a-61badde5a429",
   "metadata": {
    "tags": []
   },
   "outputs": [
    {
     "data": {
      "text/plain": [
       "(6, 36, 216)"
      ]
     },
     "execution_count": 25,
     "metadata": {},
     "output_type": "execute_result"
    }
   ],
   "source": [
    "6**1, 6**2, 6**3"
   ]
  },
  {
   "cell_type": "markdown",
   "id": "76992bbb-cda2-410c-83df-99d35c457f98",
   "metadata": {},
   "source": [
    "This does solve the problem, but it's a bad way of doing so since I had to compute the 20 manually."
   ]
  },
  {
   "cell_type": "markdown",
   "id": "a7a114c9-40f0-4539-ae80-3d55594db2a0",
   "metadata": {},
   "source": [
    ">Pull 2 cards from a deck without replacement what is the probability that both are of different colors.\n",
    "\n",
    " - Case 1: First card is Red.\n",
    " - Case 2: First card is Black.\n",
    " \n",
    "```\n",
    "P(B|missing R)=26/51\n",
    "P(R|missing R)=25/51\n",
    "P(B|missing B)=25/51\n",
    "P(R|missing B)=26/51\n",
    "```\n",
    "\n",
    "The answer is just $\\frac{26}{51}$, because half the time the first card drawn is Black (and so prob of different color is 26/51) and other half its Red (same logic)."
   ]
  },
  {
   "cell_type": "code",
   "execution_count": 31,
   "id": "814478fc-a40b-4a93-a6db-f5b25e1b394e",
   "metadata": {
    "tags": []
   },
   "outputs": [
    {
     "data": {
      "text/plain": [
       "True"
      ]
     },
     "execution_count": 31,
     "metadata": {},
     "output_type": "execute_result"
    }
   ],
   "source": [
    "0.5 * 26 / 51 + 26 / 51 * 0.5 == 26 / 51"
   ]
  },
  {
   "cell_type": "code",
   "execution_count": null,
   "id": "e9f78881-0e55-4149-8dea-03b3eb773df4",
   "metadata": {
    "tags": []
   },
   "outputs": [],
   "source": []
  },
  {
   "cell_type": "code",
   "execution_count": null,
   "id": "ce83c385-48b5-495f-bea3-232908565f6b",
   "metadata": {},
   "outputs": [],
   "source": []
  },
  {
   "cell_type": "code",
   "execution_count": null,
   "id": "1f951d1f-ef30-40ed-8317-62fbfc420c54",
   "metadata": {},
   "outputs": [],
   "source": []
  }
 ],
 "metadata": {
  "kernelspec": {
   "display_name": "Python 3 (ipykernel)",
   "language": "python",
   "name": "python3"
  },
  "language_info": {
   "codemirror_mode": {
    "name": "ipython",
    "version": 3
   },
   "file_extension": ".py",
   "mimetype": "text/x-python",
   "name": "python",
   "nbconvert_exporter": "python",
   "pygments_lexer": "ipython3",
   "version": "3.11.2"
  }
 },
 "nbformat": 4,
 "nbformat_minor": 5
}
