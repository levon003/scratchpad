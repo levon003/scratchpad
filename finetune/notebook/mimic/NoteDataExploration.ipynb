{
 "cells": [
  {
   "cell_type": "markdown",
   "id": "9a3338c3-4bc7-4a64-9f91-e4d43ffb5e40",
   "metadata": {},
   "source": [
    "## MIMIC-IV-Note data exploration\n",
    "\n",
    "See README for more info about the data.\n",
    "\n",
    "Data documentation: https://mimic.mit.edu/docs/iv/modules/note/"
   ]
  },
  {
   "cell_type": "code",
   "execution_count": 18,
   "id": "b80c1be7-d0a5-428a-8dad-df7115ddf9f7",
   "metadata": {},
   "outputs": [],
   "source": [
    "import gzip\n",
    "import shutil\n",
    "from pathlib import Path\n",
    "\n",
    "import matplotlib.pyplot as plt\n",
    "import numpy as np\n",
    "import pandas as pd\n",
    "from tqdm import tqdm"
   ]
  },
  {
   "cell_type": "code",
   "execution_count": 2,
   "id": "73fd8ecd-4e47-413b-91ef-00fee9d4383c",
   "metadata": {},
   "outputs": [],
   "source": [
    "data_dir = (Path.cwd() / \"..\" / \"..\" / \"data\").resolve()\n",
    "assert data_dir.exists()\n",
    "raw_data_dir = data_dir / \"raw\"\n",
    "processed_data_dir = data_dir / \"processed\""
   ]
  },
  {
   "cell_type": "code",
   "execution_count": 3,
   "id": "24a723d9-fb1c-44a6-90d7-99958c093e5b",
   "metadata": {},
   "outputs": [],
   "source": [
    "raw_mimic_dir = raw_data_dir / \"mimic-iv-note\" / \"2.2\" / \"note\"\n",
    "assert raw_mimic_dir.exists()"
   ]
  },
  {
   "cell_type": "code",
   "execution_count": 4,
   "id": "75cc6699-ea12-435a-bb8d-a259b859c464",
   "metadata": {},
   "outputs": [
    {
     "data": {
      "text/plain": [
       "['discharge.csv.gz',\n",
       " 'discharge_detail.csv.gz',\n",
       " 'radiology.csv.gz',\n",
       " 'radiology_detail.csv.gz']"
      ]
     },
     "execution_count": 4,
     "metadata": {},
     "output_type": "execute_result"
    }
   ],
   "source": [
    "gz_files = [p for p in raw_mimic_dir.iterdir() if p.name.endswith(\".csv.gz\")]\n",
    "[p.name for p in gz_files]"
   ]
  },
  {
   "cell_type": "code",
   "execution_count": 5,
   "id": "7a10feb3-6eb4-403e-963f-5309b01dae63",
   "metadata": {},
   "outputs": [],
   "source": [
    "# uncompress the files\n",
    "mimic_dir = processed_data_dir / \"mimic-iv-note\"\n",
    "mimic_dir.mkdir(exist_ok=True)\n",
    "for gz_filepath in gz_files:\n",
    "    target_filepath = mimic_dir / gz_filepath.name[:-3]\n",
    "    if not target_filepath.exists():\n",
    "        with gzip.open(gz_filepath, \"rb\") as f_in:\n",
    "            with open(target_filepath, \"wb\") as f_out:\n",
    "                shutil.copyfileobj(f_in, f_out)"
   ]
  },
  {
   "cell_type": "code",
   "execution_count": 8,
   "id": "670744c6-f1bb-4729-a74f-a2d6649330a3",
   "metadata": {},
   "outputs": [
    {
     "name": "stdout",
     "output_type": "stream",
     "text": [
      "4.1G\t/panfs/jay/groups/25/lana/levon003/repos/scratchpad/finetune/data/processed/mimic-iv-note/discharge.csv\n",
      "15M\t/panfs/jay/groups/25/lana/levon003/repos/scratchpad/finetune/data/processed/mimic-iv-note/discharge_detail.csv\n",
      "3.3G\t/panfs/jay/groups/25/lana/levon003/repos/scratchpad/finetune/data/processed/mimic-iv-note/radiology.csv\n",
      "358M\t/panfs/jay/groups/25/lana/levon003/repos/scratchpad/finetune/data/processed/mimic-iv-note/radiology_detail.csv\n"
     ]
    }
   ],
   "source": [
    "!du -h {mimic_dir}/*"
   ]
  },
  {
   "cell_type": "code",
   "execution_count": 9,
   "id": "806b6edf-7ec5-4f52-8b73-be8ad9e28b9e",
   "metadata": {},
   "outputs": [
    {
     "name": "stdout",
     "output_type": "stream",
     "text": [
      "==> /panfs/jay/groups/25/lana/levon003/repos/scratchpad/finetune/data/processed/mimic-iv-note/discharge.csv <==\n",
      "note_id,subject_id,hadm_id,note_type,note_seq,charttime,storetime,text\n",
      "\n",
      "==> /panfs/jay/groups/25/lana/levon003/repos/scratchpad/finetune/data/processed/mimic-iv-note/discharge_detail.csv <==\n",
      "note_id,subject_id,field_name,field_value,field_ordinal\n",
      "\n",
      "==> /panfs/jay/groups/25/lana/levon003/repos/scratchpad/finetune/data/processed/mimic-iv-note/radiology.csv <==\n",
      "note_id,subject_id,hadm_id,note_type,note_seq,charttime,storetime,text\n",
      "\n",
      "==> /panfs/jay/groups/25/lana/levon003/repos/scratchpad/finetune/data/processed/mimic-iv-note/radiology_detail.csv <==\n",
      "note_id,subject_id,field_name,field_value,field_ordinal\n"
     ]
    }
   ],
   "source": [
    "!head -n 1 {mimic_dir}/*.csv"
   ]
  },
  {
   "cell_type": "markdown",
   "id": "92a0da26-1de7-4d50-b3d6-414f11d29501",
   "metadata": {},
   "source": [
    "## Radiology\n",
    "\n",
    "https://mimic.mit.edu/docs/iv/modules/note/radiology_detail/"
   ]
  },
  {
   "cell_type": "code",
   "execution_count": 10,
   "id": "c7cba3eb-0515-4193-9e77-1929c7a53c75",
   "metadata": {},
   "outputs": [
    {
     "data": {
      "text/plain": [
       "(6046121, 5)"
      ]
     },
     "execution_count": 10,
     "metadata": {},
     "output_type": "execute_result"
    }
   ],
   "source": [
    "rdf = pd.read_csv(mimic_dir / \"radiology_detail.csv\")\n",
    "rdf.shape"
   ]
  },
  {
   "cell_type": "code",
   "execution_count": 11,
   "id": "e50a9146-3f7c-433a-9db4-56523ed21a85",
   "metadata": {},
   "outputs": [
    {
     "data": {
      "text/plain": [
       "RR    6020386\n",
       "AR      25735\n",
       "Name: note_type, dtype: int64"
      ]
     },
     "execution_count": 11,
     "metadata": {},
     "output_type": "execute_result"
    }
   ],
   "source": [
    "rdf[\"note_type\"] = rdf.note_id.map(lambda note_id: note_id.split(\"-\")[1])\n",
    "rdf.note_type.value_counts()"
   ]
  },
  {
   "cell_type": "code",
   "execution_count": 12,
   "id": "80d1d946-81d3-48e0-849c-a5ed0d6f9737",
   "metadata": {},
   "outputs": [
    {
     "data": {
      "text/plain": [
       "note_id          object\n",
       "subject_id        int64\n",
       "field_name       object\n",
       "field_value      object\n",
       "field_ordinal     int64\n",
       "note_type        object\n",
       "dtype: object"
      ]
     },
     "execution_count": 12,
     "metadata": {},
     "output_type": "execute_result"
    }
   ],
   "source": [
    "rdf.dtypes"
   ]
  },
  {
   "cell_type": "code",
   "execution_count": 14,
   "id": "5a6d74b0-716b-48ef-8d3c-b8c4a07decea",
   "metadata": {},
   "outputs": [
    {
     "data": {
      "text/html": [
       "<div>\n",
       "<style scoped>\n",
       "    .dataframe tbody tr th:only-of-type {\n",
       "        vertical-align: middle;\n",
       "    }\n",
       "\n",
       "    .dataframe tbody tr th {\n",
       "        vertical-align: top;\n",
       "    }\n",
       "\n",
       "    .dataframe thead th {\n",
       "        text-align: right;\n",
       "    }\n",
       "</style>\n",
       "<table border=\"1\" class=\"dataframe\">\n",
       "  <thead>\n",
       "    <tr style=\"text-align: right;\">\n",
       "      <th></th>\n",
       "      <th># unique</th>\n",
       "      <th># NA</th>\n",
       "    </tr>\n",
       "  </thead>\n",
       "  <tbody>\n",
       "    <tr>\n",
       "      <th>note_id</th>\n",
       "      <td>2327290</td>\n",
       "      <td>0</td>\n",
       "    </tr>\n",
       "    <tr>\n",
       "      <th>subject_id</th>\n",
       "      <td>238578</td>\n",
       "      <td>0</td>\n",
       "    </tr>\n",
       "    <tr>\n",
       "      <th>field_value</th>\n",
       "      <td>56423</td>\n",
       "      <td>0</td>\n",
       "    </tr>\n",
       "    <tr>\n",
       "      <th>field_ordinal</th>\n",
       "      <td>108</td>\n",
       "      <td>0</td>\n",
       "    </tr>\n",
       "    <tr>\n",
       "      <th>field_name</th>\n",
       "      <td>5</td>\n",
       "      <td>0</td>\n",
       "    </tr>\n",
       "    <tr>\n",
       "      <th>note_type</th>\n",
       "      <td>2</td>\n",
       "      <td>0</td>\n",
       "    </tr>\n",
       "  </tbody>\n",
       "</table>\n",
       "</div>"
      ],
      "text/plain": [
       "               # unique  # NA\n",
       "note_id         2327290     0\n",
       "subject_id       238578     0\n",
       "field_value       56423     0\n",
       "field_ordinal       108     0\n",
       "field_name            5     0\n",
       "note_type             2     0"
      ]
     },
     "execution_count": 14,
     "metadata": {},
     "output_type": "execute_result"
    }
   ],
   "source": [
    "unique_counts = rdf.nunique().rename(\"# unique\")\n",
    "na_counts = rdf.isna().sum(axis=0).rename(\"# NA\")\n",
    "cdf = pd.concat(\n",
    "    [unique_counts, na_counts],\n",
    "    axis=1,\n",
    ")\n",
    "cdf.sort_values(by=\"# unique\", ascending=False)"
   ]
  },
  {
   "cell_type": "code",
   "execution_count": 15,
   "id": "f524bc3d-cb35-4140-b288-373fdbb81d5f",
   "metadata": {},
   "outputs": [
    {
     "data": {
      "text/plain": [
       "exam_code           2913024\n",
       "exam_name           2913024\n",
       "cpt_code             168603\n",
       "parent_note_id        25735\n",
       "addendum_note_id      25735\n",
       "Name: field_name, dtype: int64"
      ]
     },
     "execution_count": 15,
     "metadata": {},
     "output_type": "execute_result"
    }
   ],
   "source": [
    "rdf.field_name.value_counts()"
   ]
  },
  {
   "cell_type": "code",
   "execution_count": 16,
   "id": "12229a36-fb88-48ac-9b43-916b9b6ed665",
   "metadata": {},
   "outputs": [
    {
     "data": {
      "image/png": "[encoded data removed]",
      "text/plain": [
       "<Figure size 600x300 with 1 Axes>"
      ]
     },
     "metadata": {},
     "output_type": "display_data"
    }
   ],
   "source": [
    "fig, ax = plt.subplots(1, 1, figsize=(6, 3))\n",
    "\n",
    "ax.hist(rdf.field_ordinal, bins=np.arange(0, rdf.field_ordinal.max()), log=True)\n",
    "ax.set_title(\"Distribution of field ordinals\")\n",
    "ax.set_ylabel(\"Occurrence count (log)\")\n",
    "ax.set_xlabel(\"Field ordinal\")\n",
    "\n",
    "fig.tight_layout()\n",
    "plt.show()"
   ]
  },
  {
   "cell_type": "code",
   "execution_count": 17,
   "id": "9466e4a2-805c-47a4-9da8-43b4d1ab7080",
   "metadata": {},
   "outputs": [
    {
     "data": {
      "image/png": "[encoded data removed]",
      "text/plain": [
       "<Figure size 600x300 with 1 Axes>"
      ]
     },
     "metadata": {},
     "output_type": "display_data"
    }
   ],
   "source": [
    "note_counts = rdf.groupby(\"subject_id\").note_id.nunique().rename(\"note_counts\")\n",
    "\n",
    "fig, ax = plt.subplots(1, 1, figsize=(6, 3))\n",
    "\n",
    "ax.hist(note_counts, bins=np.arange(0, 201), log=True)\n",
    "ax.set_title(\"Notes per subject\")\n",
    "ax.set_ylabel(\"Subject count (log)\")\n",
    "ax.set_xlabel(\"Number of notes\")\n",
    "\n",
    "fig.tight_layout()\n",
    "plt.show()"
   ]
  },
  {
   "cell_type": "code",
   "execution_count": 19,
   "id": "85964766-186d-44a1-849e-e728d6afc8b5",
   "metadata": {},
   "outputs": [
    {
     "name": "stderr",
     "output_type": "stream",
     "text": [
      "  0%|                                                                                        | 1/2327290 [00:01<654:38:23,  1.01s/it]\n"
     ]
    },
    {
     "ename": "AssertionError",
     "evalue": "",
     "output_type": "error",
     "traceback": [
      "\u001b[0;31m---------------------------------------------------------------------------\u001b[0m",
      "\u001b[0;31mAssertionError\u001b[0m                            Traceback (most recent call last)",
      "Cell \u001b[0;32mIn[19], line 2\u001b[0m\n\u001b[1;32m      1\u001b[0m \u001b[38;5;28;01mfor\u001b[39;00m note_id, group \u001b[38;5;129;01min\u001b[39;00m tqdm(rdf\u001b[38;5;241m.\u001b[39mgroupby(\u001b[38;5;124m\"\u001b[39m\u001b[38;5;124mnote_id\u001b[39m\u001b[38;5;124m\"\u001b[39m)):\n\u001b[0;32m----> 2\u001b[0m     \u001b[38;5;28;01massert\u001b[39;00m group\u001b[38;5;241m.\u001b[39mfield_name\u001b[38;5;241m.\u001b[39mnunique() \u001b[38;5;241m==\u001b[39m \u001b[38;5;28mlen\u001b[39m(group)\n",
      "\u001b[0;31mAssertionError\u001b[0m: "
     ]
    }
   ],
   "source": [
    "for note_id, group in tqdm(rdf.groupby(\"note_id\")):\n",
    "    assert group.field_name.nunique() == len(group)"
   ]
  },
  {
   "cell_type": "code",
   "execution_count": 20,
   "id": "dd6ebdbb-d05f-4e5d-b9fa-f7e7e0c6a3ef",
   "metadata": {},
   "outputs": [
    {
     "data": {
      "text/html": [
       "<div>\n",
       "<style scoped>\n",
       "    .dataframe tbody tr th:only-of-type {\n",
       "        vertical-align: middle;\n",
       "    }\n",
       "\n",
       "    .dataframe tbody tr th {\n",
       "        vertical-align: top;\n",
       "    }\n",
       "\n",
       "    .dataframe thead th {\n",
       "        text-align: right;\n",
       "    }\n",
       "</style>\n",
       "<table border=\"1\" class=\"dataframe\">\n",
       "  <thead>\n",
       "    <tr style=\"text-align: right;\">\n",
       "      <th></th>\n",
       "      <th>note_id</th>\n",
       "      <th>subject_id</th>\n",
       "      <th>field_name</th>\n",
       "      <th>field_value</th>\n",
       "      <th>field_ordinal</th>\n",
       "      <th>note_type</th>\n",
       "    </tr>\n",
       "  </thead>\n",
       "  <tbody>\n",
       "    <tr>\n",
       "      <th>2</th>\n",
       "      <td>10000032-RR-15</td>\n",
       "      <td>10000032</td>\n",
       "      <td>exam_code</td>\n",
       "      <td>U314</td>\n",
       "      <td>1</td>\n",
       "      <td>RR</td>\n",
       "    </tr>\n",
       "    <tr>\n",
       "      <th>3</th>\n",
       "      <td>10000032-RR-15</td>\n",
       "      <td>10000032</td>\n",
       "      <td>exam_code</td>\n",
       "      <td>U644</td>\n",
       "      <td>3</td>\n",
       "      <td>RR</td>\n",
       "    </tr>\n",
       "    <tr>\n",
       "      <th>4</th>\n",
       "      <td>10000032-RR-15</td>\n",
       "      <td>10000032</td>\n",
       "      <td>exam_code</td>\n",
       "      <td>W82</td>\n",
       "      <td>2</td>\n",
       "      <td>RR</td>\n",
       "    </tr>\n",
       "    <tr>\n",
       "      <th>5</th>\n",
       "      <td>10000032-RR-15</td>\n",
       "      <td>10000032</td>\n",
       "      <td>exam_name</td>\n",
       "      <td>-59 DISTINCT PROCEDURAL SERVICE</td>\n",
       "      <td>2</td>\n",
       "      <td>RR</td>\n",
       "    </tr>\n",
       "    <tr>\n",
       "      <th>6</th>\n",
       "      <td>10000032-RR-15</td>\n",
       "      <td>10000032</td>\n",
       "      <td>exam_name</td>\n",
       "      <td>DUPLEX DOP ABD/PEL LIMITED</td>\n",
       "      <td>3</td>\n",
       "      <td>RR</td>\n",
       "    </tr>\n",
       "    <tr>\n",
       "      <th>7</th>\n",
       "      <td>10000032-RR-15</td>\n",
       "      <td>10000032</td>\n",
       "      <td>exam_name</td>\n",
       "      <td>LIVER OR GALLBLADDER US (SINGLE ORGAN)</td>\n",
       "      <td>1</td>\n",
       "      <td>RR</td>\n",
       "    </tr>\n",
       "  </tbody>\n",
       "</table>\n",
       "</div>"
      ],
      "text/plain": [
       "          note_id  subject_id field_name  \\\n",
       "2  10000032-RR-15    10000032  exam_code   \n",
       "3  10000032-RR-15    10000032  exam_code   \n",
       "4  10000032-RR-15    10000032  exam_code   \n",
       "5  10000032-RR-15    10000032  exam_name   \n",
       "6  10000032-RR-15    10000032  exam_name   \n",
       "7  10000032-RR-15    10000032  exam_name   \n",
       "\n",
       "                              field_value  field_ordinal note_type  \n",
       "2                                    U314              1        RR  \n",
       "3                                    U644              3        RR  \n",
       "4                                     W82              2        RR  \n",
       "5         -59 DISTINCT PROCEDURAL SERVICE              2        RR  \n",
       "6              DUPLEX DOP ABD/PEL LIMITED              3        RR  \n",
       "7  LIVER OR GALLBLADDER US (SINGLE ORGAN)              1        RR  "
      ]
     },
     "execution_count": 20,
     "metadata": {},
     "output_type": "execute_result"
    }
   ],
   "source": [
    "group"
   ]
  },
  {
   "cell_type": "code",
   "execution_count": null,
   "id": "9e80a833-9d79-40c1-9e2b-48cb189af815",
   "metadata": {},
   "outputs": [],
   "source": []
  },
  {
   "cell_type": "code",
   "execution_count": null,
   "id": "36cd00a9-00ef-44ed-9662-65d7b3648994",
   "metadata": {},
   "outputs": [],
   "source": []
  },
  {
   "cell_type": "code",
   "execution_count": null,
   "id": "16321bf8-2025-42ec-9fb6-6c4e42d2dc7b",
   "metadata": {},
   "outputs": [],
   "source": []
  },
  {
   "cell_type": "code",
   "execution_count": null,
   "id": "2ac6c7d0-4b81-4e0e-be41-d5c42f4bb51c",
   "metadata": {},
   "outputs": [],
   "source": []
  }
 ],
 "metadata": {
  "kernelspec": {
   "display_name": "Python (shared-conda)",
   "language": "python",
   "name": "shared-conda"
  },
  "language_info": {
   "codemirror_mode": {
    "name": "ipython",
    "version": 3
   },
   "file_extension": ".py",
   "mimetype": "text/x-python",
   "name": "python",
   "nbconvert_exporter": "python",
   "pygments_lexer": "ipython3",
   "version": "3.8.13"
  }
 },
 "nbformat": 4,
 "nbformat_minor": 5
}
