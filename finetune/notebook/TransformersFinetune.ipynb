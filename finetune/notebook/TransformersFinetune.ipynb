{
 "cells": [
  {
   "cell_type": "markdown",
   "id": "ce7b413c-c981-4808-9b8b-0e10ab47044d",
   "metadata": {},
   "source": [
    "Fine-tuning with transformers\n",
    "===\n",
    "\n",
    "Reminding myself about some of the details of finetuning."
   ]
  },
  {
   "cell_type": "code",
   "execution_count": 1,
   "id": "7a0ba72f-e0b3-492f-9317-b057c1c7c3f4",
   "metadata": {
    "tags": []
   },
   "outputs": [],
   "source": [
    "import matplotlib.pyplot as plt\n",
    "import numpy as np\n",
    "import pandas as pd\n",
    "import torch\n",
    "import transformers"
   ]
  },
  {
   "cell_type": "code",
   "execution_count": null,
   "id": "f74f38ab-5edc-44da-936c-60b4c8f42bd0",
   "metadata": {},
   "outputs": [],
   "source": []
  },
  {
   "cell_type": "code",
   "execution_count": null,
   "id": "5994f644-eec4-4571-bad5-e1cb84e58d25",
   "metadata": {},
   "outputs": [],
   "source": []
  },
  {
   "cell_type": "code",
   "execution_count": null,
   "id": "9aa271d8-6409-4062-b4a5-1f70a3f5fb93",
   "metadata": {},
   "outputs": [],
   "source": []
  },
  {
   "cell_type": "code",
   "execution_count": null,
   "id": "55b09230-2228-4bc9-85ed-77a5ddc6f3eb",
   "metadata": {},
   "outputs": [],
   "source": []
  },
  {
   "cell_type": "code",
   "execution_count": null,
   "id": "894c0d51-72e5-4b37-929e-d0c4c094fce5",
   "metadata": {},
   "outputs": [],
   "source": []
  },
  {
   "cell_type": "code",
   "execution_count": null,
   "id": "adde5db9-4200-4b14-ba0a-49a67292cba9",
   "metadata": {},
   "outputs": [],
   "source": []
  }
 ],
 "metadata": {
  "kernelspec": {
   "display_name": "scratchpad-finetune",
   "language": "python",
   "name": "scratchpad-finetune"
  },
  "language_info": {
   "codemirror_mode": {
    "name": "ipython",
    "version": 3
   },
   "file_extension": ".py",
   "mimetype": "text/x-python",
   "name": "python",
   "nbconvert_exporter": "python",
   "pygments_lexer": "ipython3",
   "version": "3.8.16"
  }
 },
 "nbformat": 4,
 "nbformat_minor": 5
}
