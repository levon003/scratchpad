{
 "cells": [
  {
   "cell_type": "markdown",
   "id": "ce7b413c-c981-4808-9b8b-0e10ab47044d",
   "metadata": {},
   "source": [
    "Fine-tuning with transformers\n",
    "===\n",
    "\n",
    "Reminding myself about some of the details of finetuning.\n",
    "\n",
    " - FLAN-T5: https://huggingface.co/google/flan-t5-base\n",
    " - T5: https://huggingface.co/docs/transformers/model_doc/t5\n",
    " "
   ]
  },
  {
   "cell_type": "code",
   "execution_count": 32,
   "id": "7a0ba72f-e0b3-492f-9317-b057c1c7c3f4",
   "metadata": {
    "tags": []
   },
   "outputs": [],
   "source": [
    "from pathlib import Path\n",
    "\n",
    "import matplotlib.pyplot as plt\n",
    "import numpy as np\n",
    "import pandas as pd\n",
    "import torch\n",
    "import transformers\n",
    "from accelerate import Accelerator, DistributedType\n",
    "from transformers import T5ForConditionalGeneration, T5Tokenizer"
   ]
  },
  {
   "cell_type": "code",
   "execution_count": 9,
   "id": "97e7f81e-9d11-487f-9865-57cbc9a94c61",
   "metadata": {},
   "outputs": [],
   "source": [
    "data_dir = (Path.cwd() / \"..\" / \"data\").resolve()\n",
    "assert data_dir.exists()\n",
    "raw_data_dir = data_dir / \"raw\"\n",
    "interim_data_dir = data_dir / \"interim\"\n",
    "processed_data_dir = data_dir / \"processed\""
   ]
  },
  {
   "cell_type": "code",
   "execution_count": 3,
   "id": "9aa271d8-6409-4062-b4a5-1f70a3f5fb93",
   "metadata": {},
   "outputs": [],
   "source": [
    "# t5_model_name = \"google/flan-t5-base\"  # weights <1G\n",
    "t5_model_name = \"google/flan-t5-large\"  # weights ~3G\n",
    "# t5_model_name = \"google/flan-t5-xl\"  # weights ~12G\n",
    "# t5_model_name = \"google/flan-t5-xxl\"  # weights ~46G\n",
    "tokenizer = T5Tokenizer.from_pretrained(t5_model_name)\n",
    "model = T5ForConditionalGeneration.from_pretrained(t5_model_name, device_map=\"auto\")"
   ]
  },
  {
   "cell_type": "code",
   "execution_count": 4,
   "id": "55b09230-2228-4bc9-85ed-77a5ddc6f3eb",
   "metadata": {},
   "outputs": [
    {
     "data": {
      "text/plain": [
       "tensor([[13959,  1566,    12,  2379,    10,   571,   625,    33,    25,    58,\n",
       "             1]], device='cuda:0')"
      ]
     },
     "execution_count": 4,
     "metadata": {},
     "output_type": "execute_result"
    }
   ],
   "source": [
    "input_text = \"translate English to French: How old are you?\"\n",
    "input_ids = tokenizer(input_text, return_tensors=\"pt\").input_ids.to(\"cuda\")\n",
    "input_ids"
   ]
  },
  {
   "cell_type": "code",
   "execution_count": 5,
   "id": "894c0d51-72e5-4b37-929e-d0c4c094fce5",
   "metadata": {},
   "outputs": [
    {
     "name": "stdout",
     "output_type": "stream",
     "text": [
      "<pad> <unk> quelle âge avez-vous?</s>\n",
      "CPU times: user 783 ms, sys: 179 ms, total: 963 ms\n",
      "Wall time: 3.59 s\n"
     ]
    }
   ],
   "source": [
    "%%time\n",
    "outputs = model.generate(input_ids, max_new_tokens=20)\n",
    "print(tokenizer.decode(outputs[0]))"
   ]
  },
  {
   "cell_type": "code",
   "execution_count": 10,
   "id": "adde5db9-4200-4b14-ba0a-49a67292cba9",
   "metadata": {},
   "outputs": [],
   "source": [
    "model.save_pretrained(interim_data_dir / \"flat-t5-large-mimic\")"
   ]
  },
  {
   "cell_type": "code",
   "execution_count": 12,
   "id": "40c15495-47ef-4d79-9d1a-f81b458bebf5",
   "metadata": {},
   "outputs": [
    {
     "name": "stdout",
     "output_type": "stream",
     "text": [
      "24K\t/panfs/jay/groups/25/lana/levon003/repos/scratchpad/finetune/data/interim/flat-t5-large-mimic/config.json\n",
      "24K\t/panfs/jay/groups/25/lana/levon003/repos/scratchpad/finetune/data/interim/flat-t5-large-mimic/generation_config.json\n",
      "3.6G\t/panfs/jay/groups/25/lana/levon003/repos/scratchpad/finetune/data/interim/flat-t5-large-mimic/pytorch_model.bin\n"
     ]
    }
   ],
   "source": [
    "!du -h {interim_data_dir / \"flat-t5-large-mimic\"}/*"
   ]
  },
  {
   "cell_type": "code",
   "execution_count": null,
   "id": "c313b2e3-b3a3-4605-94f0-2a1a85b59cb2",
   "metadata": {},
   "outputs": [],
   "source": []
  },
  {
   "cell_type": "code",
   "execution_count": 23,
   "id": "e157fa96-4f59-45db-99cd-bb745fb06839",
   "metadata": {},
   "outputs": [
    {
     "name": "stdout",
     "output_type": "stream",
     "text": [
      "<pad> Zachary Levonian</s>\n"
     ]
    }
   ],
   "source": [
    "input_text = 'Say \"Zachary Levonian\" backwards'\n",
    "input_ids = tokenizer(input_text, return_tensors=\"pt\").input_ids.to(\"cuda\")\n",
    "outputs = model.generate(input_ids, max_new_tokens=20)\n",
    "print(tokenizer.decode(outputs[0]))"
   ]
  },
  {
   "cell_type": "code",
   "execution_count": 27,
   "id": "6a560284-3479-4f87-a60a-b30fe241f3fb",
   "metadata": {},
   "outputs": [],
   "source": [
    "input_text = 'Say \"Zachary Levonian\" backwards'\n",
    "output_text = \"nainoveL yrahcaZ\"\n",
    "input_ids = tokenizer(input_text, return_tensors=\"pt\").input_ids\n",
    "labels = tokenizer(output_text, return_tensors=\"pt\").input_ids"
   ]
  },
  {
   "cell_type": "code",
   "execution_count": 30,
   "id": "1ff40e55-42bd-4d7c-8cd6-299783fb06a5",
   "metadata": {},
   "outputs": [
    {
     "data": {
      "text/plain": [
       "5.19366979598999"
      ]
     },
     "execution_count": 30,
     "metadata": {},
     "output_type": "execute_result"
    }
   ],
   "source": [
    "loss = model(input_ids=input_ids, labels=labels).loss\n",
    "loss.item()"
   ]
  },
  {
   "cell_type": "code",
   "execution_count": 36,
   "id": "f8f35afd-6941-4004-abfe-e13bdfee75bf",
   "metadata": {},
   "outputs": [
    {
     "data": {
      "text/plain": [
       "Distributed environment: NO\n",
       "Num processes: 1\n",
       "Process index: 0\n",
       "Local process index: 0\n",
       "Device: cuda\n",
       "\n",
       "Mixed precision type: no"
      ]
     },
     "execution_count": 36,
     "metadata": {},
     "output_type": "execute_result"
    }
   ],
   "source": [
    "accelerator = Accelerator(gradient_accumulation_steps=1)\n",
    "accelerator.state"
   ]
  },
  {
   "cell_type": "code",
   "execution_count": 37,
   "id": "2c319ab2-120a-46f7-8dd5-ebbbc150b047",
   "metadata": {},
   "outputs": [],
   "source": [
    "accelerator.wait_for_everyone()  # probably unnecessary"
   ]
  },
  {
   "cell_type": "code",
   "execution_count": null,
   "id": "ff2e61b1-53c0-4e77-9ab1-b4aac5f92289",
   "metadata": {},
   "outputs": [],
   "source": []
  },
  {
   "cell_type": "code",
   "execution_count": null,
   "id": "74a22312-f1c4-48c8-ac39-410f04e5b0c7",
   "metadata": {},
   "outputs": [],
   "source": []
  },
  {
   "cell_type": "code",
   "execution_count": null,
   "id": "cc3eeab1-2add-4bd5-bfd8-45468fded983",
   "metadata": {},
   "outputs": [],
   "source": []
  },
  {
   "cell_type": "code",
   "execution_count": null,
   "id": "e677dc8e-0222-4e73-bb15-b02f016033ed",
   "metadata": {},
   "outputs": [],
   "source": []
  }
 ],
 "metadata": {
  "kernelspec": {
   "display_name": "scratchpad-finetune",
   "language": "python",
   "name": "scratchpad-finetune"
  },
  "language_info": {
   "codemirror_mode": {
    "name": "ipython",
    "version": 3
   },
   "file_extension": ".py",
   "mimetype": "text/x-python",
   "name": "python",
   "nbconvert_exporter": "python",
   "pygments_lexer": "ipython3",
   "version": "3.8.16"
  }
 },
 "nbformat": 4,
 "nbformat_minor": 5
}
