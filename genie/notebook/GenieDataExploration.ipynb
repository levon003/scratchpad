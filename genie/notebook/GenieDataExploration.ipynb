{
 "cells": [
  {
   "cell_type": "markdown",
   "id": "8807a26a-e120-44b9-819c-c913f5a5aa42",
   "metadata": {},
   "source": [
    "# Genie Data Exploration\n",
    "\n",
    "Exploration of the Genie dataset released by AI2.\n",
    "\n",
    "See: https://genie.apps.allenai.org/data"
   ]
  },
  {
   "cell_type": "code",
   "execution_count": 1,
   "id": "c5a023c4-30e2-4382-ab61-c0aa47cb820b",
   "metadata": {
    "tags": []
   },
   "outputs": [],
   "source": [
    "import zipfile\n",
    "from pathlib import Path\n",
    "from urllib.request import urlretrieve\n",
    "\n",
    "import requests"
   ]
  },
  {
   "cell_type": "code",
   "execution_count": 2,
   "id": "5be91628-9559-49bc-8d03-6bef636d1328",
   "metadata": {
    "tags": []
   },
   "outputs": [],
   "source": [
    "data_dir = (Path.cwd() / \"..\" / \"data\").resolve()\n",
    "assert data_dir.exists()\n",
    "raw_data_dir = data_dir / \"raw\"\n",
    "raw_data_dir.mkdir(exist_ok=True)\n",
    "derived_data_dir = data_dir / \"derived\"\n",
    "derived_data_dir.mkdir(exist_ok=True)"
   ]
  },
  {
   "cell_type": "code",
   "execution_count": 3,
   "id": "85d0def6-b8f2-428e-aca6-d8f749fb5730",
   "metadata": {
    "tags": []
   },
   "outputs": [],
   "source": [
    "source_url = \"https://genie.apps.allenai.org/genie-clean-data-mar-8-2023.zip\"\n",
    "zip_data_path = raw_data_dir / \"genie-data.zip\""
   ]
  },
  {
   "cell_type": "code",
   "execution_count": 4,
   "id": "7f24756e-8d31-4f0c-8230-275f164e7904",
   "metadata": {
    "tags": []
   },
   "outputs": [],
   "source": [
    "# download the data if doesn't already exist at the expected local path\n",
    "if not zip_data_path.exists():\n",
    "    urlretrieve(source_url, zip_data_path)\n",
    "    assert zip_data_path.exists()"
   ]
  },
  {
   "cell_type": "code",
   "execution_count": 5,
   "id": "bcef3ecd-3341-4f8e-9ad7-15ba5a49862d",
   "metadata": {
    "tags": []
   },
   "outputs": [],
   "source": [
    "with zipfile.ZipFile(zip_data_path, \"r\") as f:\n",
    "    f.extractall(raw_data_dir)"
   ]
  },
  {
   "cell_type": "code",
   "execution_count": 6,
   "id": "fce20ee5-aacc-4f8a-a869-1fdf172d3ccb",
   "metadata": {
    "tags": []
   },
   "outputs": [
    {
     "name": "stdout",
     "output_type": "stream",
     "text": [
      " 75M\t/Users/levoniaz/repos/scratchpad/genie/data/raw\n",
      " 26M\t/Users/levoniaz/repos/scratchpad/genie/data/raw/genie-xsum\n",
      " 13M\t/Users/levoniaz/repos/scratchpad/genie/data/raw/genie-mt21\n",
      " 12M\t/Users/levoniaz/repos/scratchpad/genie/data/raw/natural-instructions\n",
      "5.1M\t/Users/levoniaz/repos/scratchpad/genie/data/raw/genie-anlg\n",
      "4.7M\t/Users/levoniaz/repos/scratchpad/genie/data/raw/genie-arcda\n",
      "4.0K\t/Users/levoniaz/repos/scratchpad/genie/data/raw/__MACOSX\n"
     ]
    }
   ],
   "source": [
    "!du -h -d 1 {raw_data_dir} | sort -hr"
   ]
  },
  {
   "cell_type": "code",
   "execution_count": null,
   "id": "3a60b1b3-8e97-4dd9-a91d-60f9a3b4c5b1",
   "metadata": {},
   "outputs": [],
   "source": []
  },
  {
   "cell_type": "code",
   "execution_count": null,
   "id": "ffe0bf4b-4ddf-4b24-a622-6dacb1bcce85",
   "metadata": {},
   "outputs": [],
   "source": []
  },
  {
   "cell_type": "code",
   "execution_count": null,
   "id": "255e37dd-475e-45be-81d3-0deedbb6d414",
   "metadata": {},
   "outputs": [],
   "source": []
  },
  {
   "cell_type": "code",
   "execution_count": null,
   "id": "3058a3e5-4107-4cff-891f-954df7e76360",
   "metadata": {},
   "outputs": [],
   "source": []
  }
 ],
 "metadata": {
  "kernelspec": {
   "display_name": "scratchpad-finetune",
   "language": "python",
   "name": "scratchpad-finetune"
  },
  "language_info": {
   "codemirror_mode": {
    "name": "ipython",
    "version": 3
   },
   "file_extension": ".py",
   "mimetype": "text/x-python",
   "name": "python",
   "nbconvert_exporter": "python",
   "pygments_lexer": "ipython3",
   "version": "3.11.2"
  }
 },
 "nbformat": 4,
 "nbformat_minor": 5
}
